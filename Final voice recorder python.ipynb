{
 "cells": [
  {
   "cell_type": "code",
   "execution_count": 1,
   "id": "dba035f7-b71b-4438-b1b0-3b8337529fa7",
   "metadata": {},
   "outputs": [
    {
     "name": "stdout",
     "output_type": "stream",
     "text": [
      "Requirement already satisfied: sounddevice in c:\\users\\mallikarjun\\anaconda3\\lib\\site-packages (0.4.6)\n",
      "Requirement already satisfied: CFFI>=1.0 in c:\\users\\mallikarjun\\anaconda3\\lib\\site-packages (from sounddevice) (1.16.0)\n",
      "Requirement already satisfied: pycparser in c:\\users\\mallikarjun\\anaconda3\\lib\\site-packages (from CFFI>=1.0->sounddevice) (2.21)\n",
      "Note: you may need to restart the kernel to use updated packages.\n"
     ]
    }
   ],
   "source": [
    "pip install sounddevice"
   ]
  },
  {
   "cell_type": "code",
   "execution_count": 2,
   "id": "b929a5fb-0281-4e04-be4a-87cca259588a",
   "metadata": {},
   "outputs": [],
   "source": [
    "import sounddevice"
   ]
  },
  {
   "cell_type": "code",
   "execution_count": 3,
   "id": "0b613b9c-1008-482c-83d0-8f41bbafffc9",
   "metadata": {},
   "outputs": [
    {
     "name": "stdout",
     "output_type": "stream",
     "text": [
      "Requirement already satisfied: scipy in c:\\users\\mallikarjun\\anaconda3\\lib\\site-packages (1.11.4)Note: you may need to restart the kernel to use updated packages.\n",
      "\n",
      "Requirement already satisfied: numpy<1.28.0,>=1.21.6 in c:\\users\\mallikarjun\\anaconda3\\lib\\site-packages (from scipy) (1.26.4)\n"
     ]
    }
   ],
   "source": [
    "pip install scipy"
   ]
  },
  {
   "cell_type": "code",
   "execution_count": 4,
   "id": "f4f19da3-fc4c-42e2-a59b-525e2e2ba218",
   "metadata": {},
   "outputs": [],
   "source": [
    "import scipy"
   ]
  },
  {
   "cell_type": "code",
   "execution_count": 5,
   "id": "0763001d-eb2c-4b3b-bb79-dc751f864151",
   "metadata": {},
   "outputs": [],
   "source": [
    "from scipy.io.wavfile import write"
   ]
  },
  {
   "cell_type": "code",
   "execution_count": 7,
   "id": "c21b68b0-c29e-49b3-be3d-d2904fb609be",
   "metadata": {},
   "outputs": [
    {
     "name": "stdout",
     "output_type": "stream",
     "text": [
      "recording.....\n"
     ]
    }
   ],
   "source": [
    "fs=44100\n",
    "second=10\n",
    "print(\"recording.....\")\n",
    "record_voice=sounddevice.rec(int(second*fs),samplerate=fs,channels=2)\n",
    "sounddevice.wait()\n",
    "write(\"out.wav\",fs,record_voice)"
   ]
  },
  {
   "cell_type": "code",
   "execution_count": null,
   "id": "6d7ae503-7368-432f-931c-4e22c0f151e5",
   "metadata": {},
   "outputs": [],
   "source": []
  },
  {
   "cell_type": "code",
   "execution_count": null,
   "id": "9594253f-f9f2-42aa-a880-2bf3542dc54d",
   "metadata": {},
   "outputs": [],
   "source": []
  }
 ],
 "metadata": {
  "kernelspec": {
   "display_name": "Python 3 (ipykernel)",
   "language": "python",
   "name": "python3"
  },
  "language_info": {
   "codemirror_mode": {
    "name": "ipython",
    "version": 3
   },
   "file_extension": ".py",
   "mimetype": "text/x-python",
   "name": "python",
   "nbconvert_exporter": "python",
   "pygments_lexer": "ipython3",
   "version": "3.11.7"
  }
 },
 "nbformat": 4,
 "nbformat_minor": 5
}
