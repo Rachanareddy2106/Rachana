{
 "cells": [
  {
   "cell_type": "code",
   "execution_count": 1,
   "id": "a687a79a-424a-46d9-8f96-a0c94e341ddd",
   "metadata": {},
   "outputs": [
    {
     "name": "stdin",
     "output_type": "stream",
     "text": [
      "\n",
      "Game Start.....\n",
      "1 Yes \n",
      "2 No | Exit 1\n",
      "\n",
      "1 Rock\n",
      "2 Scissor\n",
      "3 Paper\n",
      "             rock\n"
     ]
    },
    {
     "name": "stdout",
     "output_type": "stream",
     "text": [
      "Computer Value paper\n",
      "User Value rock\n",
      "Computer Win\n"
     ]
    },
    {
     "name": "stdin",
     "output_type": "stream",
     "text": [
      "\n",
      "1 Rock\n",
      "2 Scissor\n",
      "3 Paper\n",
      "             paper\n"
     ]
    },
    {
     "name": "stdout",
     "output_type": "stream",
     "text": [
      "Computer Value scissor\n",
      "User Value paper\n",
      "Computer Win\n"
     ]
    },
    {
     "name": "stdin",
     "output_type": "stream",
     "text": [
      "\n",
      "1 Rock\n",
      "2 Scissor\n",
      "3 Paper\n",
      "             scissor\n"
     ]
    },
    {
     "name": "stdout",
     "output_type": "stream",
     "text": [
      "Computer Value scissor\n",
      "User Value scissor\n",
      "Game Draw\n"
     ]
    },
    {
     "name": "stdin",
     "output_type": "stream",
     "text": [
      "\n",
      "1 Rock\n",
      "2 Scissor\n",
      "3 Paper\n",
      "             rock\n"
     ]
    },
    {
     "name": "stdout",
     "output_type": "stream",
     "text": [
      "Computer Value paper\n",
      "User Value rock\n",
      "Computer Win\n"
     ]
    },
    {
     "name": "stdin",
     "output_type": "stream",
     "text": [
      "\n",
      "1 Rock\n",
      "2 Scissor\n",
      "3 Paper\n",
      "             paper\n"
     ]
    },
    {
     "name": "stdout",
     "output_type": "stream",
     "text": [
      "Computer Value scissor\n",
      "User Value paper\n",
      "Computer Win\n",
      "Final Computer Win The Game ..\n",
      "User Score 1\n",
      "Computer Score 5\n"
     ]
    },
    {
     "name": "stdin",
     "output_type": "stream",
     "text": [
      "\n",
      "Game Start.....\n",
      "1 Yes \n",
      "2 No | Exit 2\n"
     ]
    }
   ],
   "source": [
    "import random\n",
    "\n",
    "choices = [\"rock\", \"scissor\", \"paper\"]\n",
    "\n",
    "while True:\n",
    "    computer_score = 0\n",
    "    user_score = 0\n",
    "    user_choice = int(input('''\n",
    "Game Start.....\n",
    "1 Yes \n",
    "2 No | Exit'''))\n",
    "\n",
    "    if user_choice == 1:\n",
    "        for _ in range(1, 6):\n",
    "            player_input = input('''\n",
    "1 Rock\n",
    "2 Scissor\n",
    "3 Paper\n",
    "            ''').lower()  # Convert user input to lowercase\n",
    "            \n",
    "            if player_input == \"rock\":\n",
    "                player_selection = \"rock\"\n",
    "            elif player_input == \"scissor\":\n",
    "                player_selection = \"scissor\"\n",
    "            elif player_input == \"paper\":\n",
    "                player_selection = \"paper\"\n",
    "            else:\n",
    "                print(\"Invalid choice. Please select again.\")\n",
    "                continue  # Skip the rest of the loop iteration if choice is invalid\n",
    "\n",
    "            computer_selection = random.choice(choices)\n",
    "\n",
    "            if computer_selection == player_selection:\n",
    "                print(\"Computer Value\", computer_selection)\n",
    "                print(\"User Value\", player_selection)\n",
    "                print(\"Game Draw\")\n",
    "                user_score += 1\n",
    "                computer_score += 1\n",
    "            elif (player_selection == \"rock\" and computer_selection == \"scissor\") or \\\n",
    "                 (player_selection == \"paper\" and computer_selection == \"rock\") or \\\n",
    "                 (player_selection == \"scissor\" and computer_selection == \"paper\"):\n",
    "                print(\"Computer Value\", computer_selection)\n",
    "                print(\"User Value\", player_selection)\n",
    "                print(\"You Win\")\n",
    "                user_score += 1\n",
    "            else:\n",
    "                print(\"Computer Value\", computer_selection)\n",
    "                print(\"User Value\", player_selection)\n",
    "                print(\"Computer Win\")\n",
    "                computer_score += 1\n",
    "\n",
    "        if user_score == computer_score:\n",
    "            print(\"Final Game Draw..\")\n",
    "            print(\"User Score\", user_score)\n",
    "            print(\"Computer Score\", computer_score)\n",
    "        elif user_score > computer_score:\n",
    "            print(\"Final You Win The Game..\")\n",
    "            print(\"User Score\", user_score)\n",
    "            print(\"Computer Score\", computer_score)\n",
    "        else:\n",
    "            print(\"Final Computer Win The Game ..\")\n",
    "            print(\"User Score\", user_score)\n",
    "            print(\"Computer Score\", computer_score)\n",
    "    else:\n",
    "        break\n"
   ]
  },
  {
   "cell_type": "code",
   "execution_count": null,
   "id": "7c1a63b0-abbe-478e-ae7a-9f999a1021d9",
   "metadata": {},
   "outputs": [],
   "source": []
  }
 ],
 "metadata": {
  "kernelspec": {
   "display_name": "Python 3 (ipykernel)",
   "language": "python",
   "name": "python3"
  },
  "language_info": {
   "codemirror_mode": {
    "name": "ipython",
    "version": 3
   },
   "file_extension": ".py",
   "mimetype": "text/x-python",
   "name": "python",
   "nbconvert_exporter": "python",
   "pygments_lexer": "ipython3",
   "version": "3.11.7"
  }
 },
 "nbformat": 4,
 "nbformat_minor": 5
}
